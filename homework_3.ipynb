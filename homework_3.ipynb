{
 "cells": [
  {
   "cell_type": "markdown",
   "metadata": {
    "colab_type": "text",
    "id": "c9QcGnGPdX2C"
   },
   "source": [
    "\n",
    "**Install requirements**"
   ]
  },
  {
   "cell_type": "code",
   "execution_count": null,
   "metadata": {
    "colab": {},
    "colab_type": "code",
    "id": "k9O3aM3Tb28q"
   },
   "outputs": [],
   "source": [
    "!pip3 install 'torch==1.3.1'\n",
    "!pip3 install 'torchvision==0.5.0'\n",
    "!pip3 install 'Pillow-SIMD'\n",
    "!pip3 install 'tqdm'"
   ]
  },
  {
   "cell_type": "markdown",
   "metadata": {
    "colab_type": "text",
    "id": "JvY3r8CJFJYf"
   },
   "source": [
    "**Implementation of ReverseLayerF class**"
   ]
  },
  {
   "cell_type": "code",
   "execution_count": null,
   "metadata": {
    "colab": {},
    "colab_type": "code",
    "id": "2ts1Q45hQ1XB"
   },
   "outputs": [],
   "source": [
    "from torch.autograd import Function\n",
    "\n",
    "class ReverseLayerF(Function):\n",
    "    # Forwards identity\n",
    "    # Sends backward reversed gradients\n",
    "    @staticmethod\n",
    "    def forward(ctx, x, alpha):\n",
    "        ctx.alpha = alpha\n",
    "        return x.view_as(x)\n",
    "\n",
    "    @staticmethod\n",
    "    def backward(ctx, grad_output):\n",
    "        output = grad_output.neg() * ctx.alpha\n",
    "        return output, None"
   ]
  },
  {
   "cell_type": "markdown",
   "metadata": {
    "colab_type": "text",
    "id": "e3qnQ9J3FUI9"
   },
   "source": [
    "**Customized implementation of AlexNet**"
   ]
  },
  {
   "cell_type": "code",
   "execution_count": null,
   "metadata": {
    "colab": {},
    "colab_type": "code",
    "id": "fGtqjkHQ0Typ"
   },
   "outputs": [],
   "source": [
    "import torch\n",
    "import torch.nn as nn\n",
    "from torch.hub import load_state_dict_from_url\n",
    "\n",
    "\n",
    "__all__ = ['AlexNet', 'alexnet']\n",
    "\n",
    "\n",
    "model_urls = {\n",
    "    'alexnet': 'https://download.pytorch.org/models/alexnet-owt-4df8aa71.pth',\n",
    "}\n",
    "\n",
    "\n",
    "class AlexNet(nn.Module):\n",
    "\n",
    "    def __init__(self, num_classes=1000):\n",
    "        super(AlexNet, self).__init__()\n",
    "        self.features = nn.Sequential(\n",
    "            nn.Conv2d(3, 64, kernel_size=11, stride=4, padding=2),\n",
    "            nn.ReLU(inplace=True),\n",
    "            nn.MaxPool2d(kernel_size=3, stride=2),\n",
    "            nn.Conv2d(64, 192, kernel_size=5, padding=2),\n",
    "            nn.ReLU(inplace=True),\n",
    "            nn.MaxPool2d(kernel_size=3, stride=2),\n",
    "            nn.Conv2d(192, 384, kernel_size=3, padding=1),\n",
    "            nn.ReLU(inplace=True),\n",
    "            nn.Conv2d(384, 256, kernel_size=3, padding=1),\n",
    "            nn.ReLU(inplace=True),\n",
    "            nn.Conv2d(256, 256, kernel_size=3, padding=1),\n",
    "            nn.ReLU(inplace=True),\n",
    "            nn.MaxPool2d(kernel_size=3, stride=2),\n",
    "        )\n",
    "        self.avgpool = nn.AdaptiveAvgPool2d((6, 6))\n",
    "        self.classifier = nn.Sequential(\n",
    "            nn.Dropout(),\n",
    "            nn.Linear(256 * 6 * 6, 4096),\n",
    "            nn.ReLU(inplace=True),\n",
    "            nn.Dropout(),\n",
    "            nn.Linear(4096, 4096),\n",
    "            nn.ReLU(inplace=True),\n",
    "            nn.Linear(4096, num_classes),\n",
    "        )\n",
    "\n",
    "        self.domain_classifier = nn.Sequential(\n",
    "            nn.Dropout(),\n",
    "            nn.Linear(256 * 6 * 6, 4096),\n",
    "            nn.ReLU(inplace=True),\n",
    "            nn.Dropout(),\n",
    "            nn.Linear(4096, 4096),\n",
    "            nn.ReLU(inplace=True),\n",
    "            nn.Linear(4096, 2),\n",
    "        )\n",
    "\n",
    "    def forward(self, x, alpha):\n",
    "        x = self.features(x)\n",
    "        x = self.avgpool(x)\n",
    "        x = torch.flatten(x, 1)\n",
    "\n",
    "        #feature = self.features(x)\n",
    "        #features = self.features.view(-1, features.size(0))\n",
    "\n",
    "        # During training -> outputs = net(images, alpha)\n",
    "        if (alpha is not None):\n",
    "          reverse_feature = ReverseLayerF.apply(x, alpha)\n",
    "          x = self.domain_classifier(reverse_feature)\n",
    "          return x\n",
    "        else: \n",
    "          x = self.classifier(x)\n",
    "          return x\n",
    "        \n",
    "\n",
    "def alexnet(pretrained=False, progress=True, **kwargs):\n",
    "    model = AlexNet(**kwargs)\n",
    "\n",
    "    if pretrained:\n",
    "        state_dict = load_state_dict_from_url(model_urls['alexnet'],\n",
    "                                              progress=progress)\n",
    "        model.load_state_dict(state_dict, strict=False)\n",
    "        model.domain_classifier[1].weight.data = model.classifier[1].weight.data\n",
    "        model.domain_classifier[1].bias.data = model.classifier[1].bias.data\n",
    "\n",
    "        model.domain_classifier[4].weight.data = model.classifier[4].weight.data\n",
    "        model.domain_classifier[4].bias.data = model.classifier[4].bias.data\n",
    "\n",
    "    model.classifier[6] = nn.Linear(4096, 7)\n",
    "  \n",
    "    return model"
   ]
  },
  {
   "cell_type": "markdown",
   "metadata": {
    "colab_type": "text",
    "id": "fo942LMOdlh4"
   },
   "source": [
    "**Import libraries**"
   ]
  },
  {
   "cell_type": "code",
   "execution_count": null,
   "metadata": {
    "colab": {},
    "colab_type": "code",
    "id": "DokFOdD1dJEl"
   },
   "outputs": [],
   "source": [
    "import os\n",
    "import logging\n",
    "import copy\n",
    "\n",
    "import torch\n",
    "import torch.nn as nn\n",
    "import torch.optim as optim\n",
    "import numpy as np\n",
    "from torch.utils.data import Subset, DataLoader\n",
    "from torch.backends import cudnn\n",
    "\n",
    "import torchvision\n",
    "from torchvision import transforms\n",
    "from torch.utils.model_zoo import load_url as load_state_dict_from_url\n",
    "\n",
    "from PIL import Image\n",
    "from tqdm import tqdm"
   ]
  },
  {
   "cell_type": "markdown",
   "metadata": {
    "colab_type": "text",
    "id": "Vcc5aTw2FcRZ"
   },
   "source": [
    "**Evaluation function**"
   ]
  },
  {
   "cell_type": "code",
   "execution_count": null,
   "metadata": {
    "colab": {},
    "colab_type": "code",
    "id": "PMKxdlvH4Y7a"
   },
   "outputs": [],
   "source": [
    "def evaluation(loader, net):\n",
    "  net = net.to(DEVICE) # this will bring the network to GPU if DEVICE is cuda\n",
    "  net.train(False) # Set Network to evaluation mode\n",
    "\n",
    "  running_corrects = 0\n",
    "  \n",
    "  for images, labels in tqdm(loader):\n",
    "\n",
    "    images = images.to(DEVICE)\n",
    "    labels = labels.to(DEVICE)\n",
    "\n",
    "    # Forward Pass\n",
    "    outputs = net(images, None)\n",
    "    valLoss = criterion(outputs, labels)\n",
    "\n",
    "    # Get predictions\n",
    "    _, preds = torch.max(outputs.data, 1)\n",
    "\n",
    "    # Update Corrects\n",
    "    running_corrects += torch.sum(preds == labels.data).data.item()\n",
    "\n",
    "  # Calculate Accuracy\n",
    "  accuracy = running_corrects / float(len(loader.dataset))\n",
    "\n",
    "  return accuracy, valLoss.item()"
   ]
  },
  {
   "cell_type": "markdown",
   "metadata": {
    "colab_type": "text",
    "id": "ryLe-6CSFfNZ"
   },
   "source": [
    "**Training function**"
   ]
  },
  {
   "cell_type": "code",
   "execution_count": null,
   "metadata": {
    "colab": {},
    "colab_type": "code",
    "id": "G3f7s8k3Tyyp"
   },
   "outputs": [],
   "source": [
    "def training(alpha, train_dataloader, net, NUM_EPOCHS, scheduler, optimizer):\n",
    "  net = net.to(DEVICE) \n",
    "  cudnn.benchmark\n",
    "  current_step = 0\n",
    "  \n",
    "  for epoch in range(NUM_EPOCHS):\n",
    "    # print('Starting epoch {}/{}, LR = {}'.format(epoch+1, NUM_EPOCHS, scheduler.get_lr()))\n",
    "    \n",
    "    for images, labels in train_dataloader:\n",
    "      images = images.to(DEVICE)\n",
    "      labels = labels.to(DEVICE)\n",
    "\n",
    "      net.train() \n",
    "      optimizer.zero_grad()\n",
    "\n",
    "      if alpha is not None:\n",
    "        outputs = net(images, alpha)\n",
    "      else: \n",
    "        outputs = net(images, None)\n",
    "\n",
    "      loss = criterion(outputs, labels)\n",
    "\n",
    "      #if current_step % LOG_FREQUENCY == 0:\n",
    "        #print('Step {}, Loss {}'.format(current_step, loss.item()))\n",
    "\n",
    "      loss.backward()\n",
    "      optimizer.step() \n",
    "      current_step += 1\n",
    "\n",
    "    scheduler.step()\n",
    "  return copy.deepcopy(net)"
   ]
  },
  {
   "cell_type": "markdown",
   "metadata": {
    "colab_type": "text",
    "id": "9gwii0TBHvzh"
   },
   "source": [
    "**Define Data Preprocessing**"
   ]
  },
  {
   "cell_type": "code",
   "execution_count": null,
   "metadata": {
    "colab": {},
    "colab_type": "code",
    "id": "QUDdw4j2H0Mc"
   },
   "outputs": [],
   "source": [
    "# Define transforms for training phase\n",
    "train_transform = transforms.Compose([transforms.Resize(256),      # Resizes short size of the PIL image to 256\n",
    "                                      transforms.CenterCrop(224),  # Crops a central square patch of the image\n",
    "                                                                   # 224 because torchvision's AlexNet needs a 224x224 input!\n",
    "                                                                   # Remember this when applying different transformations, otherwise you get an error\n",
    "                                      #transforms.RandomCrop( 64 , padding =2) ,\n",
    "                                      transforms.ToTensor(), # Turn PIL Image to torch.Tensor\n",
    "                                      transforms.Normalize((0.485, 0.456, 0.406), (0.229, 0.224, 0.225)) # Normalizes tensor with mean and standard deviation\n",
    "])\n",
    "# Define transforms for the evaluation phase\n",
    "eval_transform = transforms.Compose([transforms.Resize(256),\n",
    "                                      transforms.CenterCrop(224),\n",
    "                                      transforms.ToTensor(),\n",
    "                                      transforms.Normalize((0.485, 0.456, 0.406), (0.229, 0.224, 0.225))                                   \n",
    "])"
   ]
  },
  {
   "cell_type": "markdown",
   "metadata": {
    "colab_type": "text",
    "id": "2qYIHPzYLY7i"
   },
   "source": [
    "**Prepare Dataset**"
   ]
  },
  {
   "cell_type": "code",
   "execution_count": null,
   "metadata": {
    "colab": {
     "base_uri": "https://localhost:8080/",
     "height": 119
    },
    "colab_type": "code",
    "id": "QfVq_uDHLbsR",
    "outputId": "51d60351-b620-4824-a096-8fd36da04627"
   },
   "outputs": [
    {
     "name": "stdout",
     "output_type": "stream",
     "text": [
      "Cloning into 'Homework3-PACS'...\n",
      "remote: Enumerating objects: 10032, done.\u001b[K\n",
      "remote: Total 10032 (delta 0), reused 0 (delta 0), pack-reused 10032\u001b[K\n",
      "Receiving objects: 100% (10032/10032), 174.13 MiB | 13.59 MiB/s, done.\n",
      "Resolving deltas: 100% (1/1), done.\n",
      "Checking out files: 100% (9993/9993), done.\n"
     ]
    }
   ],
   "source": [
    "# Clone github repository with data\n",
    "if not os.path.isdir('./homework_3'):\n",
    "  !git clone https://github.com/MachineLearning2020/Homework3-PACS\n",
    "  !mv 'Homework3-PACS' 'homework_3'\n",
    "\n",
    "DATA_DIR = 'homework_3/PACS'\n",
    "\n",
    "# Prepare Pytorch train/test Datasets\n",
    "photo_root = \"homework_3/PACS/photo/\"\n",
    "art_root = \"homework_3/PACS/art_painting/\"\n",
    "cartoon_root = \"homework_3/PACS/cartoon/\"\n",
    "sketch_root = \"homework_3/PACS/sketch/\"\n",
    "\n",
    "photo_dataset = torchvision.datasets.ImageFolder(photo_root, transform=train_transform)\n",
    "art_dataset = torchvision.datasets.ImageFolder(art_root, transform=train_transform)\n",
    "cartoon_dataset = torchvision.datasets.ImageFolder(cartoon_root, transform=train_transform)\n",
    "sketch_dataset = torchvision.datasets.ImageFolder(sketch_root, transform=train_transform)"
   ]
  },
  {
   "cell_type": "markdown",
   "metadata": {
    "colab_type": "text",
    "id": "yLB2FKewhowy"
   },
   "source": [
    "**Data exploration**\n"
   ]
  },
  {
   "cell_type": "code",
   "execution_count": null,
   "metadata": {
    "colab": {
     "base_uri": "https://localhost:8080/",
     "height": 391
    },
    "colab_type": "code",
    "id": "hj_0xkP0JLEd",
    "outputId": "13eefb7e-900a-4733-d2bf-c569f87e9c46"
   },
   "outputs": [
    {
     "data": {
      "text/plain": [
       "(1670, 2048, 2344, 3929)"
      ]
     },
     "execution_count": 9,
     "metadata": {
      "tags": []
     },
     "output_type": "execute_result"
    },
    {
     "data": {
      "image/png": "[encoded data removed]",
      "text/plain": [
       "<Figure size 720x432 with 1 Axes>"
      ]
     },
     "metadata": {
      "needs_background": "light",
      "tags": []
     },
     "output_type": "display_data"
    }
   ],
   "source": [
    "import matplotlib.pyplot as plt\n",
    "\n",
    "f, ax = plt.subplots(1,figsize=(10,6))\n",
    "x = np.arange(4)\n",
    "y = [len(photo_dataset), len(art_dataset), len(cartoon_dataset), len(sketch_dataset)]\n",
    "plt.bar(x,y)\n",
    "plt.xticks(x, ('Photo', 'Art Paintings', 'Cartoon', 'Sketch'))\n",
    "plt.ylabel('cardinality')\n",
    "\n",
    "len(photo_dataset), len(art_dataset), len(cartoon_dataset), len(sketch_dataset)"
   ]
  },
  {
   "cell_type": "markdown",
   "metadata": {
    "colab_type": "text",
    "id": "2Z9piE1Nk5ct"
   },
   "source": [
    "**Set hyperparameters**"
   ]
  },
  {
   "cell_type": "code",
   "execution_count": null,
   "metadata": {
    "colab": {},
    "colab_type": "code",
    "id": "d5PkYfqfK_SA"
   },
   "outputs": [],
   "source": [
    "DEVICE = 'cuda' \n",
    "BATCH_SIZE = 128\n",
    "LR = 0.001\n",
    "MOMENTUM = 0.9    \n",
    "WEIGHT_DECAY = 5e-5 \n",
    "NUM_EPOCHS = 30      \n",
    "STEP_SIZE = 20      \n",
    "GAMMA = 0.1    \n",
    "LOG_FREQUENCY = 10"
   ]
  },
  {
   "cell_type": "markdown",
   "metadata": {
    "colab_type": "text",
    "id": "FYEDQ7Z21ldN"
   },
   "source": [
    "**Prepare Dataloaders**"
   ]
  },
  {
   "cell_type": "code",
   "execution_count": null,
   "metadata": {
    "colab": {},
    "colab_type": "code",
    "id": "VriRw8SI1nle"
   },
   "outputs": [],
   "source": [
    "# Dataloaders iterate over pytorch datasets and transparently provide useful functions (e.g. parallelization and shuffling)\n",
    "train_dataloader = DataLoader(photo_dataset, batch_size=BATCH_SIZE, shuffle=True, num_workers=4, drop_last=True)\n",
    "test_dataloader = DataLoader(art_dataset, batch_size=BATCH_SIZE, shuffle=False, num_workers=4, drop_last=True)"
   ]
  },
  {
   "cell_type": "markdown",
   "metadata": {
    "colab_type": "text",
    "id": "NxpSsuZw8Dd5"
   },
   "source": [
    "# Train on source, test on target without adaptation"
   ]
  },
  {
   "cell_type": "markdown",
   "metadata": {
    "colab_type": "text",
    "id": "gbZ1t5Qs2z4j"
   },
   "source": [
    "**Prepare Network and Training**"
   ]
  },
  {
   "cell_type": "code",
   "execution_count": null,
   "metadata": {
    "colab": {},
    "colab_type": "code",
    "id": "exHUjtXa22DN"
   },
   "outputs": [],
   "source": [
    "net = alexnet(pretrained=True)\n",
    "criterion = nn.CrossEntropyLoss() \n",
    "parameters_to_optimize = net.parameters()\n",
    "optimizer = optim.SGD(parameters_to_optimize, lr=LR, momentum=MOMENTUM, weight_decay=WEIGHT_DECAY)\n",
    "scheduler = optim.lr_scheduler.StepLR(optimizer, step_size=STEP_SIZE, gamma=GAMMA)"
   ]
  },
  {
   "cell_type": "markdown",
   "metadata": {
    "colab_type": "text",
    "id": "AxYUli9d9uYQ"
   },
   "source": [
    "**Train on source, test on target wihout adaptation**\n",
    "\n",
    "\n"
   ]
  },
  {
   "cell_type": "code",
   "execution_count": null,
   "metadata": {
    "colab": {},
    "colab_type": "code",
    "id": "ZcoQ5fD49yT_"
   },
   "outputs": [],
   "source": [
    "# By default, everything is loaded to cpu\n",
    "net = net.to(DEVICE) # this will bring the network to GPU if DEVICE is cuda\n",
    "\n",
    "cudnn.benchmark # Calling this optimizes runtime\n",
    "\n",
    "train_losses = []\n",
    "losses_test = []\n",
    "accuracies_test_noDANN = []\n",
    "accuracies_train_noDANN = []\n",
    "\n",
    "current_step = 0\n",
    "# Start iterating over the epochs\n",
    "for epoch in range(NUM_EPOCHS):\n",
    "  print('Starting epoch {}/{}, LR = {}'.format(epoch+1, NUM_EPOCHS, scheduler.get_lr()))\n",
    "\n",
    "  # Iterate over the dataset\n",
    "  for images, labels in train_dataloader:\n",
    "    \n",
    "    images = images.to(DEVICE)\n",
    "    labels = labels.to(DEVICE)\n",
    "\n",
    "    net.train()\n",
    "    optimizer.zero_grad()\n",
    "    outputs = net(images, None)\n",
    "    loss = criterion(outputs, labels)\n",
    "\n",
    "    if current_step % LOG_FREQUENCY == 0:\n",
    "      print('Step {}, Loss {}'.format(current_step, loss.item()))\n",
    "\n",
    "    loss.backward()  \n",
    "    optimizer.step()\n",
    "    current_step += 1\n",
    "\n",
    "  scheduler.step() \n",
    "  \n",
    "  train_losses.append(loss.item())\n",
    "  accuracy_test, test_loss = evaluation(test_dataloader, net)\n",
    "  accuracy_train, _ = evaluation(train_dataloader, net)\n",
    "  accuracies_test_noDANN.append(accuracy_test)\n",
    "  accuracies_train_noDANN.append(accuracy_train)\n",
    "  losses_test.append(test_loss)\n",
    "  \n",
    "accuracy_test, test_loss = evaluation(test_dataloader, net)\n",
    "print(f\"accuracy: {accuracy_test} | loss: {test_loss} on test set \")"
   ]
  },
  {
   "cell_type": "markdown",
   "metadata": {
    "colab_type": "text",
    "id": "pXz84hWQNqOF"
   },
   "source": [
    "**Plotting features** \n"
   ]
  },
  {
   "cell_type": "code",
   "execution_count": null,
   "metadata": {
    "colab": {},
    "colab_type": "code",
    "id": "qcC3x4-yL6D1"
   },
   "outputs": [],
   "source": [
    "from sklearn.manifold import TSNE\n",
    "\n",
    "def get_2D_representation(loader, net, class_label):\n",
    "  all_images = []\n",
    "  with torch.no_grad():\n",
    "    net.train(False)\n",
    "    for images, labels in loader:\n",
    "        for img, label  in  zip(images, labels):\n",
    "          if label == class_label:\n",
    "            features = net.features(img.unsqueeze(0).cuda())\n",
    "            features = net.avgpool(features)\n",
    "            features = torch.flatten(features,1).squeeze(0)\n",
    "            all_images.append(features)\n",
    "\n",
    "    all_images = torch.stack(all_images)\n",
    "  \n",
    "    reduced_2D_images = TSNE().fit_transform(all_images.cpu().detach().numpy())\n",
    "    return reduced_2D_images\n",
    "\n",
    "reduced_2D_images_source = get_2D_representation(train_dataloader, net, 2)\n",
    "reduced_2D_images_target = get_2D_representation(test_dataloader, net, 2)\n",
    "\n",
    "fig, ax = plt.subplots(figsize = (12,8))\n",
    "ax.scatter(reduced_2D_images_source[:,0], reduced_2D_images_source[:,1], c = 'blue', label = 'source (train)')\n",
    "ax.scatter(reduced_2D_images_target[:,0], reduced_2D_images_target[:,1], c = 'orange', label = 'target (test)')\n",
    "ax.legend()"
   ]
  },
  {
   "cell_type": "code",
   "execution_count": null,
   "metadata": {
    "colab": {},
    "colab_type": "code",
    "id": "K7ru1CeFkHDk"
   },
   "outputs": [],
   "source": [
    "results = f\"LR={LR} | NUM_EPOCHS={NUM_EPOCHS} | GAMMA={GAMMA} | STEP_SIZE={STEP_SIZE} | BATCH_SIZE={BATCH_SIZE} | ACCURACY_TEST={accuracy}\\n\"\n",
    "f = open(\"drive/My Drive/results_hm3.txt\",'a')\n",
    "f.write(results)\n",
    "f.close()"
   ]
  },
  {
   "cell_type": "markdown",
   "metadata": {
    "colab_type": "text",
    "id": "mrjQZM4b8KFz"
   },
   "source": [
    "# Train on source, test on target with adaptation"
   ]
  },
  {
   "cell_type": "markdown",
   "metadata": {
    "colab_type": "text",
    "id": "t3cVDqfFHokm"
   },
   "source": [
    "**Set hyperparameters**\n"
   ]
  },
  {
   "cell_type": "code",
   "execution_count": null,
   "metadata": {
    "colab": {},
    "colab_type": "code",
    "id": "fDI0OPkEyIBe"
   },
   "outputs": [],
   "source": [
    "DEVICE = 'cuda' \n",
    "BATCH_SIZE = 128\n",
    "LR = 0.001\n",
    "MOMENTUM = 0.9    \n",
    "WEIGHT_DECAY = 5e-5 \n",
    "NUM_EPOCHS = 30      \n",
    "STEP_SIZE = 20      \n",
    "GAMMA = 0.1    \n",
    "LOG_FREQUENCY = 10         \n",
    "ALPHA = 0.01 "
   ]
  },
  {
   "cell_type": "markdown",
   "metadata": {
    "colab_type": "text",
    "id": "4VfEAup6fmXi"
   },
   "source": [
    "**Train on source, test on target with adaptation**"
   ]
  },
  {
   "cell_type": "code",
   "execution_count": null,
   "metadata": {
    "colab": {},
    "colab_type": "code",
    "id": "beFkE5GDkmLy"
   },
   "outputs": [],
   "source": [
    "# Prepare Pytorch train/test Datasets\n",
    "photo_root = \"homework_3/PACS/photo/\"\n",
    "art_root = \"homework_3/PACS/art_painting/\"\n",
    "photo_dataset = torchvision.datasets.ImageFolder(photo_root, transform=train_transform)\n",
    "art_dataset = torchvision.datasets.ImageFolder(art_root, transform=train_transform)\n",
    "\n",
    "# Dataloaders iterate over pytorch datasets and transparently provide useful functions (e.g. parallelization and shuffling)\n",
    "source_dataloader = DataLoader(photo_dataset, batch_size=BATCH_SIZE, shuffle=True, num_workers=4, drop_last=True)\n",
    "target_dataloader = DataLoader(art_dataset, batch_size=BATCH_SIZE, shuffle=False, num_workers=4, drop_last=True)"
   ]
  },
  {
   "cell_type": "code",
   "execution_count": null,
   "metadata": {
    "colab": {},
    "colab_type": "code",
    "id": "4kP2VeELgRQn"
   },
   "outputs": [],
   "source": [
    "net = alexnet(pretrained=True)\n",
    "\n",
    "criterion = nn.CrossEntropyLoss() \n",
    "parameters_to_optimize = net.parameters()\n",
    "optimizer = optim.SGD(parameters_to_optimize, lr=LR, momentum=MOMENTUM, weight_decay=WEIGHT_DECAY)\n",
    "scheduler = optim.lr_scheduler.StepLR(optimizer, step_size=STEP_SIZE, gamma=GAMMA)\n",
    "\n",
    "net = net.to(DEVICE) \n",
    "cudnn.benchmark\n",
    "current_step = 0\n",
    "\n",
    "losses_source_Gy = []\n",
    "losses_source_Gd = []\n",
    "losses_target_Gd = []\n",
    "test_losses_DANN = []\n",
    "train_losses_DANN = []\n",
    "\n",
    "accuracies_train_DANN = []\n",
    "accuracies_test_DANN = []\n",
    "for epoch in range(NUM_EPOCHS):\n",
    "\n",
    "  source_dataloader_iterator = iter(source_dataloader)\n",
    "  \n",
    "  for target_images, _ in target_dataloader:\n",
    "    try: \n",
    "      images, labels = next(source_dataloader_iterator)\n",
    "    except StopIteration:\n",
    "        source_dataloader_iterator = iter(source_dataloader)\n",
    "        images, labels = next(source_dataloader_iterator)\n",
    "\n",
    "    target_images = target_images.to(DEVICE)\n",
    "    images = images.to(DEVICE)\n",
    "    labels = labels.to(DEVICE)\n",
    "    net.train() \n",
    "    optimizer.zero_grad()\n",
    "\n",
    "    # STEP 1\n",
    "    outputs = net(images, None)\n",
    "    loss_1 = criterion(outputs, labels)\n",
    "    loss_1.backward() \n",
    "\n",
    "    # STEP 2\n",
    "    outputs = net(images, ALPHA)\n",
    "    step2_labels = torch.zeros(BATCH_SIZE, dtype=torch.long)\n",
    "    step2_labels = step2_labels.to(DEVICE)\n",
    "    loss_2 = criterion(outputs, step2_labels)\n",
    "    loss_2.backward()  \n",
    "\n",
    "    # STEP 3\n",
    "    outputs = net(target_images, ALPHA)\n",
    "    step3_labels = torch.ones(BATCH_SIZE, dtype=torch.long)\n",
    "    step3_labels = step3_labels.to(DEVICE)\n",
    "    loss_3 = criterion(outputs, step3_labels)\n",
    "    loss_3.backward()\n",
    "\n",
    "    optimizer.step() \n",
    "    current_step += 1\n",
    "\n",
    "  #losses_source_Gy.append(loss_1.item()) \n",
    "  #losses_source_Gd.append(loss_2.item()) \n",
    "  #losses_target_Gd.append(loss_3.item())\n",
    "  #test_acc, test_loss_DANN = evaluation(target_dataloader, net)\n",
    "  #train_acc, train_loss_DANN = evaluation(source_dataloader, net)\n",
    "  #train_losses_DANN.append(train_loss_DANN)\n",
    "  #test_losses_DANN.append(test_loss_DANN)\n",
    "  #accuracies_test_DANN.append(test_acc)\n",
    "  #accuracies_train_DANN.append(train_acc)\n",
    "  scheduler.step()"
   ]
  },
  {
   "cell_type": "markdown",
   "metadata": {
    "colab_type": "text",
    "id": "UsHFI-GAJd69"
   },
   "source": [
    "**Test**"
   ]
  },
  {
   "cell_type": "code",
   "execution_count": null,
   "metadata": {
    "colab": {
     "base_uri": "https://localhost:8080/",
     "height": 51
    },
    "colab_type": "code",
    "id": "Qu97Xw22-QX2",
    "outputId": "d3262794-0ef0-4096-b1ab-d11b46dc647f"
   },
   "outputs": [
    {
     "name": "stderr",
     "output_type": "stream",
     "text": [
      "100%|██████████| 16/16 [00:10<00:00,  1.54it/s]"
     ]
    },
    {
     "name": "stdout",
     "output_type": "stream",
     "text": [
      "Test Accuracy: 0.5009765625\n"
     ]
    },
    {
     "name": "stderr",
     "output_type": "stream",
     "text": [
      "\n"
     ]
    }
   ],
   "source": [
    "net = net.to(DEVICE) # this will bring the network to GPU if DEVICE is cuda\n",
    "net.train(False) # Set Network to evaluation mode\n",
    "\n",
    "running_corrects = 0\n",
    "for images, labels in tqdm(target_dataloader):\n",
    "  images = images.to(DEVICE)\n",
    "  labels = labels.to(DEVICE)\n",
    "\n",
    "  # Forward Pass\n",
    "  outputs = net(images, None)\n",
    "\n",
    "  # Get predictions\n",
    "  _, preds = torch.max(outputs.data, 1)\n",
    "\n",
    "  # Update Corrects\n",
    "  running_corrects += torch.sum(preds == labels.data).data.item()\n",
    "\n",
    "# Calculate Accuracy\n",
    "accuracy = running_corrects / float(len(target_dataloader.dataset))\n",
    "\n",
    "print('Test Accuracy: {}'.format(accuracy))"
   ]
  },
  {
   "cell_type": "code",
   "execution_count": null,
   "metadata": {
    "colab": {},
    "colab_type": "code",
    "id": "eLIe0XWEOMz1"
   },
   "outputs": [],
   "source": [
    "# class label 0 stands for \"dogs\"\n",
    "reduced_2D_images_source = get_2D_representation(source_dataloader, net, 2)\n",
    "reduced_2D_images_target = get_2D_representation(target_dataloader, net, 2)\n",
    "fig, ax = plt.subplots(figsize = (12,8))\n",
    "ax.scatter(reduced_2D_images_source[:,0], reduced_2D_images_source[:,1], c = 'blue', label = 'source')\n",
    "ax.scatter(reduced_2D_images_target[:,0], reduced_2D_images_target[:,1], c = 'orange', label = 'target')\n",
    "ax.legend()"
   ]
  },
  {
   "cell_type": "code",
   "execution_count": null,
   "metadata": {
    "colab": {},
    "colab_type": "code",
    "id": "f5qXCp3E_HgO"
   },
   "outputs": [],
   "source": [
    "results = f\"DANN with ALPHA={ALPHA} | LR={LR} | NUM_EPOCHS={NUM_EPOCHS} | GAMMA={GAMMA} | STEP_SIZE={STEP_SIZE} | BATCH_SIZE={BATCH_SIZE} | ACCURACY_TEST={accuracy}\\n\"\n",
    "f = open(\"drive/My Drive/results_DANN_hm3.txt\",'a')\n",
    "f.write(results)\n",
    "f.close()"
   ]
  },
  {
   "cell_type": "markdown",
   "metadata": {
    "colab_type": "text",
    "id": "nSMYNsCWyqxR"
   },
   "source": [
    "# Comparison"
   ]
  },
  {
   "cell_type": "code",
   "execution_count": null,
   "metadata": {
    "colab": {
     "base_uri": "https://localhost:8080/",
     "height": 513
    },
    "colab_type": "code",
    "id": "zPU8LnvjzPud",
    "outputId": "25e272b6-d910-4812-e0ec-2081ff38c040"
   },
   "outputs": [
    {
     "data": {
      "image/png": "[encoded data removed]",
      "text/plain": [
       "<Figure size 720x576 with 1 Axes>"
      ]
     },
     "metadata": {
      "needs_background": "light",
      "tags": []
     },
     "output_type": "display_data"
    },
    {
     "data": {
      "text/plain": [
       "(0.49755859375, 0.48486328125)"
      ]
     },
     "execution_count": 47,
     "metadata": {
      "tags": []
     },
     "output_type": "execute_result"
    }
   ],
   "source": [
    "import matplotlib.pyplot as plt\n",
    "\n",
    "f, ax = plt.subplots(1,figsize=(10,8))\n",
    "\n",
    "ax.plot(accuracies_test_DANN, label = \"accuracy with DANN\", marker='.')\n",
    "ax.plot(accuracies_test_noDANN, label = \"accuracy without DANN\", marker='.')\n",
    "\n",
    "plt.xlabel('EPOCH')\n",
    "plt.ylabel('ACCURACY SCORE')\n",
    "plt.title('')\n",
    "plt.legend()\n",
    "plt.show()"
   ]
  },
  {
   "cell_type": "code",
   "execution_count": null,
   "metadata": {
    "colab": {
     "base_uri": "https://localhost:8080/",
     "height": 497
    },
    "colab_type": "code",
    "id": "l9wBOnqZf20y",
    "outputId": "4210d2dc-bb80-4e8d-e6ac-06b0e4a1e574"
   },
   "outputs": [
    {
     "data": {
      "image/png": "[encoded data removed]",
      "text/plain": [
       "<Figure size 720x576 with 1 Axes>"
      ]
     },
     "metadata": {
      "needs_background": "light",
      "tags": []
     },
     "output_type": "display_data"
    }
   ],
   "source": [
    "import matplotlib.pyplot as plt\n",
    "\n",
    "f, ax = plt.subplots(1,figsize=(10,8))\n",
    "\n",
    "ax.plot(losses_test, label = \"test loss without DANN\", marker='.')\n",
    "ax.plot(test_losses_DANN, label = \"test loss with DANN\", marker='.')\n",
    "\n",
    "plt.xlabel('EPOCH')\n",
    "plt.ylabel('LOSS')\n",
    "plt.title('')\n",
    "plt.legend()\n",
    "plt.show()"
   ]
  },
  {
   "cell_type": "code",
   "execution_count": null,
   "metadata": {
    "colab": {
     "base_uri": "https://localhost:8080/",
     "height": 497
    },
    "colab_type": "code",
    "id": "433wzZihlOED",
    "outputId": "1086a4ef-3c45-4111-8198-923ba770cfb7"
   },
   "outputs": [
    {
     "data": {
      "image/png": "[encoded data removed]",
      "text/plain": [
       "<Figure size 720x576 with 1 Axes>"
      ]
     },
     "metadata": {
      "needs_background": "light",
      "tags": []
     },
     "output_type": "display_data"
    }
   ],
   "source": [
    "import matplotlib.pyplot as plt\n",
    "\n",
    "f, ax = plt.subplots(1,figsize=(10,8))\n",
    "\n",
    "ax.plot(train_losses_DANN, label = \"train loss with DANN\", marker='.')\n",
    "ax.plot(train_losses, label = \"train loss without DANN\", marker='.')\n",
    "\n",
    "plt.xlabel('EPOCH')\n",
    "plt.ylabel('LOSS')\n",
    "plt.title('')\n",
    "plt.legend()\n",
    "plt.show()"
   ]
  },
  {
   "cell_type": "markdown",
   "metadata": {
    "colab_type": "text",
    "id": "Eta8CZ6r8SL2"
   },
   "source": [
    "# Cross Domain Validation without DANN"
   ]
  },
  {
   "cell_type": "markdown",
   "metadata": {
    "colab_type": "text",
    "id": "ISPgPM2V7U6w"
   },
   "source": [
    "**Cross Domain Validation without DANN**"
   ]
  },
  {
   "cell_type": "code",
   "execution_count": null,
   "metadata": {
    "colab": {},
    "colab_type": "code",
    "id": "GHXo0mzJHedA"
   },
   "outputs": [],
   "source": [
    "photo_dataset = torchvision.datasets.ImageFolder(photo_root, transform=train_transform)\n",
    "cartoon_dataset = torchvision.datasets.ImageFolder(cartoon_root, transform=train_transform)\n",
    "sketch_dataset = torchvision.datasets.ImageFolder(sketch_root, transform=train_transform)\n",
    "art_dataset = torchvision.datasets.ImageFolder(art_root, transform=train_transform)\n",
    "\n",
    "photo_valoader = DataLoader(photo_dataset, batch_size=BATCH_SIZE, shuffle=True, num_workers=4, drop_last=True)\n",
    "cartoon_valoader = DataLoader(cartoon_dataset, batch_size=BATCH_SIZE, shuffle=False, num_workers=4, drop_last=True)\n",
    "sketch_valoader = DataLoader(sketch_dataset, batch_size=BATCH_SIZE, shuffle=False, num_workers=4, drop_last=True)\n",
    "art_valoader = DataLoader(art_dataset, batch_size=BATCH_SIZE, shuffle=False, num_workers=4, drop_last=True)"
   ]
  },
  {
   "cell_type": "code",
   "execution_count": null,
   "metadata": {
    "colab": {
     "base_uri": "https://localhost:8080/",
     "height": 1000
    },
    "colab_type": "code",
    "id": "QgmFALVDOg2p",
    "outputId": "dc8d3c71-1761-40d4-88ba-2194c496778c"
   },
   "outputs": [
    {
     "name": "stderr",
     "output_type": "stream",
     "text": [
      "\n",
      "  0%|          | 0/18 [00:00<?, ?it/s]\u001b[A\n",
      "  6%|▌         | 1/18 [00:01<00:33,  1.97s/it]\u001b[A\n",
      " 11%|█         | 2/18 [00:02<00:22,  1.43s/it]\u001b[A\n",
      " 17%|█▋        | 3/18 [00:02<00:15,  1.06s/it]\u001b[A\n",
      " 22%|██▏       | 4/18 [00:02<00:11,  1.27it/s]\u001b[A\n",
      " 28%|██▊       | 5/18 [00:03<00:11,  1.09it/s]\u001b[A\n",
      " 33%|███▎      | 6/18 [00:04<00:08,  1.38it/s]\u001b[A\n",
      " 39%|███▉      | 7/18 [00:04<00:06,  1.76it/s]\u001b[A\n",
      " 44%|████▍     | 8/18 [00:04<00:04,  2.20it/s]\u001b[A\n",
      " 50%|█████     | 9/18 [00:05<00:05,  1.56it/s]\u001b[A\n",
      " 56%|█████▌    | 10/18 [00:05<00:04,  1.89it/s]\u001b[A\n",
      " 61%|██████    | 11/18 [00:05<00:02,  2.34it/s]\u001b[A\n",
      " 67%|██████▋   | 12/18 [00:06<00:02,  2.83it/s]\u001b[A\n",
      " 72%|███████▏  | 13/18 [00:07<00:02,  1.76it/s]\u001b[A\n",
      " 78%|███████▊  | 14/18 [00:07<00:02,  1.98it/s]\u001b[A\n",
      " 83%|████████▎ | 15/18 [00:07<00:01,  2.47it/s]\u001b[A\n",
      " 89%|████████▉ | 16/18 [00:07<00:00,  3.08it/s]\u001b[A\n",
      " 94%|█████████▍| 17/18 [00:08<00:00,  2.78it/s]\u001b[A\n",
      "100%|██████████| 18/18 [00:08<00:00,  2.10it/s]\n",
      "\n",
      "  0%|          | 0/30 [00:00<?, ?it/s]\u001b[A\n",
      "  3%|▎         | 1/30 [00:01<00:55,  1.92s/it]\u001b[A\n",
      "  7%|▋         | 2/30 [00:02<00:39,  1.40s/it]\u001b[A\n",
      " 10%|█         | 3/30 [00:02<00:28,  1.04s/it]\u001b[A\n",
      " 13%|█▎        | 4/30 [00:02<00:20,  1.28it/s]\u001b[A\n",
      " 17%|█▋        | 5/30 [00:03<00:21,  1.15it/s]\u001b[A\n",
      " 20%|██        | 6/30 [00:03<00:16,  1.48it/s]\u001b[A\n",
      " 23%|██▎       | 7/30 [00:03<00:12,  1.89it/s]\u001b[A\n",
      " 27%|██▋       | 8/30 [00:04<00:09,  2.33it/s]\u001b[A\n",
      " 30%|███       | 9/30 [00:05<00:13,  1.50it/s]\u001b[A\n",
      " 33%|███▎      | 10/30 [00:05<00:10,  1.91it/s]\u001b[A\n",
      " 37%|███▋      | 11/30 [00:05<00:08,  2.34it/s]\u001b[A\n",
      " 40%|████      | 12/30 [00:05<00:06,  2.81it/s]\u001b[A\n",
      " 43%|████▎     | 13/30 [00:07<00:10,  1.60it/s]\u001b[A\n",
      " 47%|████▋     | 14/30 [00:07<00:07,  2.01it/s]\u001b[A\n",
      " 50%|█████     | 15/30 [00:07<00:06,  2.47it/s]\u001b[A\n",
      " 53%|█████▎    | 16/30 [00:07<00:04,  3.03it/s]\u001b[A\n",
      " 57%|█████▋    | 17/30 [00:08<00:07,  1.70it/s]\u001b[A\n",
      " 60%|██████    | 18/30 [00:09<00:05,  2.15it/s]\u001b[A\n",
      " 63%|██████▎   | 19/30 [00:09<00:04,  2.67it/s]\u001b[A\n",
      " 67%|██████▋   | 20/30 [00:09<00:03,  3.19it/s]\u001b[A\n",
      " 70%|███████   | 21/30 [00:10<00:05,  1.63it/s]\u001b[A\n",
      " 73%|███████▎  | 22/30 [00:10<00:03,  2.08it/s]\u001b[A\n",
      " 77%|███████▋  | 23/30 [00:11<00:02,  2.62it/s]\u001b[A\n",
      " 80%|████████  | 24/30 [00:11<00:01,  3.21it/s]\u001b[A\n",
      " 83%|████████▎ | 25/30 [00:12<00:02,  2.15it/s]\u001b[A\n",
      " 87%|████████▋ | 26/30 [00:12<00:01,  2.69it/s]\u001b[A\n",
      " 90%|█████████ | 27/30 [00:12<00:00,  3.32it/s]\u001b[A\n",
      " 93%|█████████▎| 28/30 [00:12<00:00,  3.87it/s]\u001b[A\n",
      " 97%|█████████▋| 29/30 [00:12<00:00,  3.10it/s]\u001b[A\n",
      "100%|██████████| 30/30 [00:13<00:00,  2.28it/s]\n"
     ]
    },
    {
     "name": "stdout",
     "output_type": "stream",
     "text": [
      "Evaluated model with config=[0.0001, 30, 20, 0.1, 5e-05]\n",
      "accuracy_cartoon=0.2521331058020478 loss_cartoon=4.653696060180664\n",
      "accuracy_sketch=0.3013489437515907 loss_sketch=3.217373847961426\n",
      "avg_accuracy=0.2767410247768193 avg_loss=3.935534954071045\n"
     ]
    },
    {
     "name": "stderr",
     "output_type": "stream",
     "text": [
      "\n",
      "  0%|          | 0/18 [00:00<?, ?it/s]\u001b[A\n",
      "  6%|▌         | 1/18 [00:01<00:33,  1.96s/it]\u001b[A\n",
      " 11%|█         | 2/18 [00:02<00:22,  1.42s/it]\u001b[A\n",
      " 17%|█▋        | 3/18 [00:02<00:15,  1.04s/it]\u001b[A\n",
      " 22%|██▏       | 4/18 [00:02<00:10,  1.29it/s]\u001b[A\n",
      " 28%|██▊       | 5/18 [00:03<00:12,  1.07it/s]\u001b[A\n",
      " 33%|███▎      | 6/18 [00:03<00:08,  1.42it/s]\u001b[A\n",
      " 39%|███▉      | 7/18 [00:04<00:05,  1.84it/s]\u001b[A\n",
      " 44%|████▍     | 8/18 [00:04<00:04,  2.34it/s]\u001b[A\n",
      " 50%|█████     | 9/18 [00:05<00:06,  1.39it/s]\u001b[A\n",
      " 56%|█████▌    | 10/18 [00:05<00:04,  1.79it/s]\u001b[A\n",
      " 61%|██████    | 11/18 [00:06<00:03,  2.24it/s]\u001b[A\n",
      " 67%|██████▋   | 12/18 [00:06<00:02,  2.69it/s]\u001b[A\n",
      " 72%|███████▏  | 13/18 [00:07<00:02,  1.67it/s]\u001b[A\n",
      " 78%|███████▊  | 14/18 [00:07<00:01,  2.17it/s]\u001b[A\n",
      " 83%|████████▎ | 15/18 [00:07<00:01,  2.73it/s]\u001b[A\n",
      " 89%|████████▉ | 16/18 [00:07<00:00,  3.34it/s]\u001b[A\n",
      " 94%|█████████▍| 17/18 [00:08<00:00,  2.73it/s]\u001b[A\n",
      "100%|██████████| 18/18 [00:08<00:00,  2.12it/s]\n",
      "\n",
      "  0%|          | 0/30 [00:00<?, ?it/s]\u001b[A\n",
      "  3%|▎         | 1/30 [00:01<00:56,  1.93s/it]\u001b[A\n",
      "  7%|▋         | 2/30 [00:02<00:39,  1.41s/it]\u001b[A\n",
      " 10%|█         | 3/30 [00:02<00:28,  1.04s/it]\u001b[A\n",
      " 13%|█▎        | 4/30 [00:02<00:20,  1.28it/s]\u001b[A\n",
      " 17%|█▋        | 5/30 [00:03<00:22,  1.14it/s]\u001b[A\n",
      " 20%|██        | 6/30 [00:03<00:16,  1.48it/s]\u001b[A\n",
      " 23%|██▎       | 7/30 [00:03<00:12,  1.90it/s]\u001b[A\n",
      " 27%|██▋       | 8/30 [00:04<00:09,  2.39it/s]\u001b[A\n",
      " 30%|███       | 9/30 [00:05<00:13,  1.53it/s]\u001b[A\n",
      " 33%|███▎      | 10/30 [00:05<00:10,  1.98it/s]\u001b[A\n",
      " 37%|███▋      | 11/30 [00:05<00:07,  2.48it/s]\u001b[A\n",
      " 40%|████      | 12/30 [00:05<00:05,  3.01it/s]\u001b[A\n",
      " 43%|████▎     | 13/30 [00:07<00:10,  1.69it/s]\u001b[A\n",
      " 47%|████▋     | 14/30 [00:07<00:07,  2.17it/s]\u001b[A\n",
      " 50%|█████     | 15/30 [00:07<00:05,  2.67it/s]\u001b[A\n",
      " 53%|█████▎    | 16/30 [00:07<00:04,  3.22it/s]\u001b[A\n",
      " 57%|█████▋    | 17/30 [00:08<00:07,  1.76it/s]\u001b[A\n",
      " 60%|██████    | 18/30 [00:08<00:05,  2.24it/s]\u001b[A\n",
      " 63%|██████▎   | 19/30 [00:09<00:03,  2.79it/s]\u001b[A\n",
      " 67%|██████▋   | 20/30 [00:09<00:03,  3.28it/s]\u001b[A\n",
      " 70%|███████   | 21/30 [00:10<00:05,  1.80it/s]\u001b[A\n",
      " 73%|███████▎  | 22/30 [00:10<00:03,  2.29it/s]\u001b[A\n",
      " 77%|███████▋  | 23/30 [00:10<00:02,  2.81it/s]\u001b[A\n",
      " 80%|████████  | 24/30 [00:10<00:01,  3.29it/s]\u001b[A\n",
      " 83%|████████▎ | 25/30 [00:11<00:02,  1.87it/s]\u001b[A\n",
      " 87%|████████▋ | 26/30 [00:12<00:01,  2.41it/s]\u001b[A\n",
      " 90%|█████████ | 27/30 [00:12<00:01,  3.00it/s]\u001b[A\n",
      " 93%|█████████▎| 28/30 [00:12<00:00,  3.67it/s]\u001b[A\n",
      " 97%|█████████▋| 29/30 [00:12<00:00,  2.87it/s]\u001b[A\n",
      "100%|██████████| 30/30 [00:13<00:00,  2.30it/s]\n"
     ]
    },
    {
     "name": "stdout",
     "output_type": "stream",
     "text": [
      "Evaluated model with config=[0.0005, 30, 20, 0.1, 5e-05]\n",
      "accuracy_cartoon=0.2431740614334471 loss_cartoon=7.162662506103516\n",
      "accuracy_sketch=0.2794604224993637 loss_sketch=6.234256267547607\n",
      "avg_accuracy=0.2613172419664054 avg_loss=6.6984593868255615\n"
     ]
    },
    {
     "name": "stderr",
     "output_type": "stream",
     "text": [
      "\n",
      "  0%|          | 0/18 [00:00<?, ?it/s]\u001b[A\n",
      "  6%|▌         | 1/18 [00:02<00:34,  2.06s/it]\u001b[A\n",
      " 11%|█         | 2/18 [00:02<00:23,  1.48s/it]\u001b[A\n",
      " 17%|█▋        | 3/18 [00:02<00:16,  1.08s/it]\u001b[A\n",
      " 22%|██▏       | 4/18 [00:02<00:11,  1.24it/s]\u001b[A\n",
      " 28%|██▊       | 5/18 [00:03<00:12,  1.04it/s]\u001b[A\n",
      " 33%|███▎      | 6/18 [00:03<00:08,  1.39it/s]\u001b[A\n",
      " 39%|███▉      | 7/18 [00:04<00:06,  1.81it/s]\u001b[A\n",
      " 44%|████▍     | 8/18 [00:04<00:04,  2.29it/s]\u001b[A\n",
      " 50%|█████     | 9/18 [00:05<00:06,  1.44it/s]\u001b[A\n",
      " 56%|█████▌    | 10/18 [00:05<00:04,  1.88it/s]\u001b[A\n",
      " 61%|██████    | 11/18 [00:05<00:02,  2.35it/s]\u001b[A\n",
      " 67%|██████▋   | 12/18 [00:06<00:02,  2.89it/s]\u001b[A\n",
      " 72%|███████▏  | 13/18 [00:07<00:03,  1.64it/s]\u001b[A\n",
      " 78%|███████▊  | 14/18 [00:07<00:01,  2.17it/s]\u001b[A\n",
      " 83%|████████▎ | 15/18 [00:07<00:01,  2.80it/s]\u001b[A\n",
      " 89%|████████▉ | 16/18 [00:07<00:00,  3.42it/s]\u001b[A\n",
      "100%|██████████| 18/18 [00:08<00:00,  2.14it/s]\n",
      "\n",
      "  0%|          | 0/30 [00:00<?, ?it/s]\u001b[A\n",
      "  3%|▎         | 1/30 [00:01<00:55,  1.91s/it]\u001b[A\n",
      "  7%|▋         | 2/30 [00:02<00:39,  1.40s/it]\u001b[A\n",
      " 10%|█         | 3/30 [00:02<00:27,  1.02s/it]\u001b[A\n",
      " 13%|█▎        | 4/30 [00:02<00:19,  1.31it/s]\u001b[A\n",
      " 17%|█▋        | 5/30 [00:03<00:21,  1.17it/s]\u001b[A\n",
      " 20%|██        | 6/30 [00:03<00:16,  1.42it/s]\u001b[A\n",
      " 23%|██▎       | 7/30 [00:03<00:12,  1.87it/s]\u001b[A\n",
      " 27%|██▋       | 8/30 [00:04<00:09,  2.37it/s]\u001b[A\n",
      " 30%|███       | 9/30 [00:05<00:12,  1.65it/s]\u001b[A\n",
      " 33%|███▎      | 10/30 [00:05<00:10,  1.93it/s]\u001b[A\n",
      " 37%|███▋      | 11/30 [00:05<00:07,  2.42it/s]\u001b[A\n",
      " 40%|████      | 12/30 [00:05<00:06,  3.00it/s]\u001b[A\n",
      " 43%|████▎     | 13/30 [00:06<00:09,  1.83it/s]\u001b[A\n",
      " 47%|████▋     | 14/30 [00:07<00:06,  2.34it/s]\u001b[A\n",
      " 50%|█████     | 15/30 [00:07<00:05,  2.84it/s]\u001b[A\n",
      " 53%|█████▎    | 16/30 [00:07<00:04,  3.36it/s]\u001b[A\n",
      " 57%|█████▋    | 17/30 [00:08<00:07,  1.85it/s]\u001b[A\n",
      " 60%|██████    | 18/30 [00:08<00:05,  2.13it/s]\u001b[A\n",
      " 63%|██████▎   | 19/30 [00:08<00:04,  2.64it/s]\u001b[A\n",
      " 67%|██████▋   | 20/30 [00:09<00:03,  3.18it/s]\u001b[A\n",
      " 70%|███████   | 21/30 [00:10<00:04,  1.96it/s]\u001b[A\n",
      " 73%|███████▎  | 22/30 [00:10<00:03,  2.24it/s]\u001b[A\n",
      " 77%|███████▋  | 23/30 [00:10<00:02,  2.77it/s]\u001b[A\n",
      " 80%|████████  | 24/30 [00:10<00:01,  3.39it/s]\u001b[A\n",
      " 83%|████████▎ | 25/30 [00:11<00:02,  2.02it/s]\u001b[A\n",
      " 87%|████████▋ | 26/30 [00:11<00:01,  2.51it/s]\u001b[A\n",
      " 90%|█████████ | 27/30 [00:11<00:01,  2.97it/s]\u001b[A\n",
      " 93%|█████████▎| 28/30 [00:12<00:00,  3.60it/s]\u001b[A\n",
      "100%|██████████| 30/30 [00:12<00:00,  2.34it/s]\n"
     ]
    },
    {
     "name": "stdout",
     "output_type": "stream",
     "text": [
      "Evaluated model with config=[0.005, 30, 20, 0.1, 5e-05]\n",
      "accuracy_cartoon=0.25810580204778155 loss_cartoon=11.275652885437012\n",
      "accuracy_sketch=0.3112751336217867 loss_sketch=8.790472984313965\n",
      "avg_accuracy=0.28469046783478413 avg_loss=10.033062934875488\n"
     ]
    },
    {
     "name": "stderr",
     "output_type": "stream",
     "text": [
      "\n",
      "  0%|          | 0/18 [00:00<?, ?it/s]\u001b[A\n",
      "  6%|▌         | 1/18 [00:02<00:34,  2.02s/it]\u001b[A\n",
      " 11%|█         | 2/18 [00:02<00:23,  1.47s/it]\u001b[A\n",
      " 17%|█▋        | 3/18 [00:02<00:16,  1.07s/it]\u001b[A\n",
      " 22%|██▏       | 4/18 [00:02<00:11,  1.25it/s]\u001b[A\n",
      " 28%|██▊       | 5/18 [00:03<00:12,  1.08it/s]\u001b[A\n",
      " 33%|███▎      | 6/18 [00:03<00:08,  1.43it/s]\u001b[A\n",
      " 39%|███▉      | 7/18 [00:04<00:05,  1.87it/s]\u001b[A\n",
      " 44%|████▍     | 8/18 [00:04<00:04,  2.36it/s]\u001b[A\n",
      " 50%|█████     | 9/18 [00:05<00:06,  1.42it/s]\u001b[A\n",
      " 56%|█████▌    | 10/18 [00:05<00:04,  1.85it/s]\u001b[A\n",
      " 61%|██████    | 11/18 [00:05<00:03,  2.33it/s]\u001b[A\n",
      " 67%|██████▋   | 12/18 [00:06<00:02,  2.88it/s]\u001b[A\n",
      " 72%|███████▏  | 13/18 [00:07<00:03,  1.59it/s]\u001b[A\n",
      " 78%|███████▊  | 14/18 [00:07<00:01,  2.08it/s]\u001b[A\n",
      " 83%|████████▎ | 15/18 [00:07<00:01,  2.64it/s]\u001b[A\n",
      " 89%|████████▉ | 16/18 [00:07<00:00,  3.25it/s]\u001b[A\n",
      " 94%|█████████▍| 17/18 [00:08<00:00,  2.65it/s]\u001b[A\n",
      "100%|██████████| 18/18 [00:08<00:00,  2.12it/s]\n",
      "\n",
      "  0%|          | 0/30 [00:00<?, ?it/s]\u001b[A\n",
      "  3%|▎         | 1/30 [00:01<00:51,  1.78s/it]\u001b[A\n",
      "  7%|▋         | 2/30 [00:02<00:36,  1.32s/it]\u001b[A\n",
      " 10%|█         | 3/30 [00:02<00:26,  1.03it/s]\u001b[A\n",
      " 13%|█▎        | 4/30 [00:02<00:18,  1.37it/s]\u001b[A\n",
      " 17%|█▋        | 5/30 [00:03<00:20,  1.20it/s]\u001b[A\n",
      " 20%|██        | 6/30 [00:03<00:16,  1.46it/s]\u001b[A\n",
      " 23%|██▎       | 7/30 [00:03<00:11,  1.93it/s]\u001b[A\n",
      " 27%|██▋       | 8/30 [00:04<00:09,  2.43it/s]\u001b[A\n",
      " 30%|███       | 9/30 [00:05<00:12,  1.63it/s]\u001b[A\n",
      " 33%|███▎      | 10/30 [00:05<00:10,  1.96it/s]\u001b[A\n",
      " 37%|███▋      | 11/30 [00:05<00:07,  2.48it/s]\u001b[A\n",
      " 40%|████      | 12/30 [00:05<00:05,  3.04it/s]\u001b[A\n",
      " 43%|████▎     | 13/30 [00:06<00:09,  1.78it/s]\u001b[A\n",
      " 47%|████▋     | 14/30 [00:07<00:07,  2.11it/s]\u001b[A\n",
      " 50%|█████     | 15/30 [00:07<00:05,  2.67it/s]\u001b[A\n",
      " 53%|█████▎    | 16/30 [00:07<00:04,  3.26it/s]\u001b[A\n",
      " 57%|█████▋    | 17/30 [00:08<00:07,  1.79it/s]\u001b[A\n",
      " 60%|██████    | 18/30 [00:08<00:05,  2.12it/s]\u001b[A\n",
      " 63%|██████▎   | 19/30 [00:08<00:04,  2.68it/s]\u001b[A\n",
      " 67%|██████▋   | 20/30 [00:09<00:03,  3.29it/s]\u001b[A\n",
      " 70%|███████   | 21/30 [00:10<00:04,  1.82it/s]\u001b[A\n",
      " 73%|███████▎  | 22/30 [00:10<00:03,  2.31it/s]\u001b[A\n",
      " 77%|███████▋  | 23/30 [00:10<00:02,  2.85it/s]\u001b[A\n",
      " 80%|████████  | 24/30 [00:10<00:01,  3.43it/s]\u001b[A\n",
      " 83%|████████▎ | 25/30 [00:11<00:02,  1.80it/s]\u001b[A\n",
      " 87%|████████▋ | 26/30 [00:12<00:01,  2.26it/s]\u001b[A\n",
      " 90%|█████████ | 27/30 [00:12<00:01,  2.89it/s]\u001b[A\n",
      " 93%|█████████▎| 28/30 [00:12<00:00,  3.59it/s]\u001b[A\n",
      " 97%|█████████▋| 29/30 [00:12<00:00,  3.10it/s]\u001b[A\n",
      "100%|██████████| 30/30 [00:12<00:00,  2.32it/s]\n"
     ]
    },
    {
     "name": "stdout",
     "output_type": "stream",
     "text": [
      "Evaluated model with config=[0.001, 30, 20, 0.1, 5e-05]\n",
      "accuracy_cartoon=0.2431740614334471 loss_cartoon=9.207777976989746\n",
      "accuracy_sketch=0.2812420463222194 loss_sketch=5.214203357696533\n",
      "avg_accuracy=0.26220805387783325 avg_loss=7.21099066734314\n"
     ]
    },
    {
     "name": "stderr",
     "output_type": "stream",
     "text": [
      "\n",
      "  0%|          | 0/18 [00:00<?, ?it/s]\u001b[A\n",
      "  6%|▌         | 1/18 [00:01<00:32,  1.93s/it]\u001b[A\n",
      " 11%|█         | 2/18 [00:02<00:22,  1.43s/it]\u001b[A\n",
      " 17%|█▋        | 3/18 [00:02<00:15,  1.05s/it]\u001b[A\n",
      " 22%|██▏       | 4/18 [00:02<00:10,  1.28it/s]\u001b[A\n",
      " 28%|██▊       | 5/18 [00:03<00:11,  1.14it/s]\u001b[A\n",
      " 33%|███▎      | 6/18 [00:04<00:08,  1.33it/s]\u001b[A\n",
      " 39%|███▉      | 7/18 [00:04<00:06,  1.74it/s]\u001b[A\n",
      " 44%|████▍     | 8/18 [00:04<00:04,  2.23it/s]\u001b[A\n",
      " 50%|█████     | 9/18 [00:05<00:05,  1.63it/s]\u001b[A\n",
      " 56%|█████▌    | 10/18 [00:05<00:04,  1.90it/s]\u001b[A\n",
      " 61%|██████    | 11/18 [00:05<00:02,  2.38it/s]\u001b[A\n",
      " 67%|██████▋   | 12/18 [00:06<00:02,  2.85it/s]\u001b[A\n",
      " 72%|███████▏  | 13/18 [00:07<00:02,  1.70it/s]\u001b[A\n",
      " 78%|███████▊  | 14/18 [00:07<00:01,  2.11it/s]\u001b[A\n",
      " 83%|████████▎ | 15/18 [00:07<00:01,  2.64it/s]\u001b[A\n",
      " 89%|████████▉ | 16/18 [00:07<00:00,  3.33it/s]\u001b[A\n",
      " 94%|█████████▍| 17/18 [00:08<00:00,  2.66it/s]\u001b[A\n",
      "100%|██████████| 18/18 [00:08<00:00,  2.13it/s]\n",
      "\n",
      "  0%|          | 0/30 [00:00<?, ?it/s]\u001b[A\n",
      "  3%|▎         | 1/30 [00:01<00:56,  1.94s/it]\u001b[A\n",
      "  7%|▋         | 2/30 [00:02<00:39,  1.42s/it]\u001b[A\n",
      " 10%|█         | 3/30 [00:02<00:27,  1.03s/it]\u001b[A\n",
      " 13%|█▎        | 4/30 [00:02<00:19,  1.30it/s]\u001b[A\n",
      " 17%|█▋        | 5/30 [00:03<00:22,  1.09it/s]\u001b[A\n",
      " 20%|██        | 6/30 [00:03<00:16,  1.46it/s]\u001b[A\n",
      " 23%|██▎       | 7/30 [00:03<00:12,  1.90it/s]\u001b[A\n",
      " 27%|██▋       | 8/30 [00:04<00:09,  2.36it/s]\u001b[A\n",
      " 30%|███       | 9/30 [00:05<00:13,  1.53it/s]\u001b[A\n",
      " 33%|███▎      | 10/30 [00:05<00:10,  1.98it/s]\u001b[A\n",
      " 37%|███▋      | 11/30 [00:05<00:07,  2.50it/s]\u001b[A\n",
      " 40%|████      | 12/30 [00:05<00:05,  3.09it/s]\u001b[A\n",
      " 43%|████▎     | 13/30 [00:07<00:10,  1.64it/s]\u001b[A\n",
      " 47%|████▋     | 14/30 [00:07<00:07,  2.08it/s]\u001b[A\n",
      " 50%|█████     | 15/30 [00:07<00:05,  2.61it/s]\u001b[A\n",
      " 53%|█████▎    | 16/30 [00:07<00:04,  3.08it/s]\u001b[A\n",
      " 57%|█████▋    | 17/30 [00:08<00:07,  1.76it/s]\u001b[A\n",
      " 60%|██████    | 18/30 [00:08<00:05,  2.26it/s]\u001b[A\n",
      " 63%|██████▎   | 19/30 [00:09<00:03,  2.75it/s]\u001b[A\n",
      " 67%|██████▋   | 20/30 [00:09<00:02,  3.38it/s]\u001b[A\n",
      " 70%|███████   | 21/30 [00:10<00:05,  1.71it/s]\u001b[A\n",
      " 73%|███████▎  | 22/30 [00:10<00:03,  2.15it/s]\u001b[A\n",
      " 77%|███████▋  | 23/30 [00:10<00:02,  2.72it/s]\u001b[A\n",
      " 80%|████████  | 24/30 [00:10<00:01,  3.30it/s]\u001b[A\n",
      " 83%|████████▎ | 25/30 [00:12<00:02,  1.85it/s]\u001b[A\n",
      " 87%|████████▋ | 26/30 [00:12<00:01,  2.37it/s]\u001b[A\n",
      " 90%|█████████ | 27/30 [00:12<00:01,  2.97it/s]\u001b[A\n",
      " 93%|█████████▎| 28/30 [00:12<00:00,  3.67it/s]\u001b[A\n",
      "100%|██████████| 30/30 [00:12<00:00,  2.31it/s]"
     ]
    },
    {
     "name": "stdout",
     "output_type": "stream",
     "text": [
      "Evaluated model with config=[0.01, 30, 20, 0.1, 5e-05]\n",
      "accuracy_cartoon=0.25554607508532423 loss_cartoon=14.220627784729004\n",
      "accuracy_sketch=0.29931280223975565 loss_sketch=9.347529411315918\n",
      "avg_accuracy=0.27742943866253994 avg_loss=11.784078598022461\n"
     ]
    },
    {
     "name": "stderr",
     "output_type": "stream",
     "text": [
      "\n"
     ]
    }
   ],
   "source": [
    "# First, only the learning rate is tuned\n",
    "# LR, NUM_EPOCHS, STEP_SIZE, GAMMA, WEIGHT_DECAY\n",
    "params_configurations = [[0.0001, 30, 20, 0.1, 5e-5],\n",
    "                         [0.0005, 30, 20, 0.1, 5e-5],\n",
    "                         [0.005, 30, 20, 0.1, 5e-5],\n",
    "                         [0.001, 30, 20, 0.1, 5e-5],\n",
    "                         [0.01, 30, 20, 0.1, 5e-5]]\n",
    "config_scores = {}\n",
    "for config_idx, config in enumerate(params_configurations):\n",
    "  LR = config[0]\n",
    "  NUM_EPOCHS = config[1]\n",
    "  STEP_SIZE = config[2]\n",
    "  GAMMA = config[3]\n",
    "  WEIGHT_DECAY = config[4]\n",
    "\n",
    "  net = alexnet(pretrained=True)\n",
    "  criterion = nn.CrossEntropyLoss() \n",
    "  parameters_to_optimize = net.parameters()\n",
    "  optimizer = optim.SGD(parameters_to_optimize, lr=LR, momentum=MOMENTUM, weight_decay=WEIGHT_DECAY)\n",
    "  scheduler = optim.lr_scheduler.StepLR(optimizer, step_size=STEP_SIZE, gamma=GAMMA)\n",
    "\n",
    "  trained_net = training(None, photo_valoader, net, NUM_EPOCHS, scheduler, optimizer)\n",
    "  accuracy_cartoon, loss_cartoon = evaluation(cartoon_valoader, trained_net)\n",
    "  accuracy_sketch, loss_sketch = evaluation(sketch_valoader, trained_net)\n",
    "\n",
    "  avg_accuracy = (accuracy_cartoon + accuracy_sketch)/2\n",
    "  avg_loss = (loss_cartoon + loss_sketch)/2\n",
    "  \n",
    "  config_scores[config_idx] = (avg_accuracy, avg_loss) \n",
    "\n",
    "  print(f\"Evaluated model with config={config}\")\n",
    "  print(f\"accuracy_cartoon={accuracy_cartoon} loss_cartoon={loss_cartoon}\")\n",
    "  print(f\"accuracy_sketch={accuracy_sketch} loss_sketch={loss_sketch}\")\n",
    "  print(f\"avg_accuracy={avg_accuracy} avg_loss={avg_loss}\")"
   ]
  },
  {
   "cell_type": "code",
   "execution_count": null,
   "metadata": {
    "colab": {
     "base_uri": "https://localhost:8080/",
     "height": 194
    },
    "colab_type": "code",
    "id": "rNSHDveHFMuZ",
    "outputId": "21d85df6-c132-4074-f4a5-c981856fb0a4"
   },
   "outputs": [
    {
     "data": {
      "text/plain": [
       "({0: (0.2767410247768193, 3.935534954071045),\n",
       "  1: (0.2613172419664054, 6.6984593868255615),\n",
       "  2: (0.28469046783478413, 10.033062934875488),\n",
       "  3: (0.26220805387783325, 7.21099066734314),\n",
       "  4: (0.27742943866253994, 11.784078598022461)},\n",
       " [[0.0001, 30, 20, 0.1, 5e-05],\n",
       "  [0.0005, 30, 20, 0.1, 5e-05],\n",
       "  [0.005, 30, 20, 0.1, 5e-05],\n",
       "  [0.001, 30, 20, 0.1, 5e-05],\n",
       "  [0.01, 30, 20, 0.1, 5e-05]])"
      ]
     },
     "execution_count": 78,
     "metadata": {
      "tags": []
     },
     "output_type": "execute_result"
    }
   ],
   "source": [
    "config_scores, params_configurations # configuration with best accuracy"
   ]
  },
  {
   "cell_type": "code",
   "execution_count": null,
   "metadata": {
    "colab": {
     "base_uri": "https://localhost:8080/",
     "height": 390
    },
    "colab_type": "code",
    "id": "-jTSSZdbccBp",
    "outputId": "fe88f9af-b16d-4222-a939-b352837a1787"
   },
   "outputs": [
    {
     "name": "stdout",
     "output_type": "stream",
     "text": [
      "Linear(in_features=4096, out_features=7, bias=True)\n"
     ]
    },
    {
     "name": "stderr",
     "output_type": "stream",
     "text": [
      "100%|██████████| 18/18 [00:08<00:00,  2.13it/s]\n",
      "100%|██████████| 30/30 [00:12<00:00,  2.34it/s]\n"
     ]
    },
    {
     "name": "stdout",
     "output_type": "stream",
     "text": [
      "Evaluated model with config=[0.005, 50, 20, 0.1, 0.005]\n",
      "accuracy_cartoon=0.27261092150170646 loss_cartoon=10.203784942626953\n",
      "accuracy_sketch=0.319419699669127 loss_sketch=9.139816284179688\n",
      "avg_accuracy=0.29601531058541675 avg_loss=9.67180061340332\n",
      "Linear(in_features=4096, out_features=7, bias=True)\n"
     ]
    },
    {
     "name": "stderr",
     "output_type": "stream",
     "text": [
      "100%|██████████| 18/18 [00:08<00:00,  2.09it/s]\n",
      "100%|██████████| 30/30 [00:13<00:00,  2.25it/s]\n"
     ]
    },
    {
     "name": "stdout",
     "output_type": "stream",
     "text": [
      "Evaluated model with config=[0.005, 50, 25, 0.1, 0.005]\n",
      "accuracy_cartoon=0.27986348122866894 loss_cartoon=9.89080810546875\n",
      "accuracy_sketch=0.32832781878340545 loss_sketch=6.3654303550720215\n",
      "avg_accuracy=0.3040956500060372 avg_loss=8.128119230270386\n",
      "Linear(in_features=4096, out_features=7, bias=True)\n"
     ]
    },
    {
     "name": "stderr",
     "output_type": "stream",
     "text": [
      "100%|██████████| 18/18 [00:08<00:00,  2.08it/s]\n",
      "100%|██████████| 30/30 [00:13<00:00,  2.27it/s]"
     ]
    },
    {
     "name": "stdout",
     "output_type": "stream",
     "text": [
      "Evaluated model with config=[0.005, 50, 30, 0.1, 0.005]\n",
      "accuracy_cartoon=0.2645051194539249 loss_cartoon=9.558392524719238\n",
      "accuracy_sketch=0.3130567574446424 loss_sketch=6.110206127166748\n",
      "avg_accuracy=0.28878093844928365 avg_loss=7.834299325942993\n"
     ]
    },
    {
     "name": "stderr",
     "output_type": "stream",
     "text": [
      "\n"
     ]
    }
   ],
   "source": [
    "# Then, other parameters are tuned with the best learning rate fixed\n",
    "\n",
    "params_configurations = [[0.005, 50, 20, 0.1, 0.005],\n",
    "                         [0.005, 50, 25, 0.1, 0.005],\n",
    "                         [0.005, 50, 30, 0.1, 0.005]]\n",
    "config_scores = {}\n",
    "for config_idx, config in enumerate(params_configurations):\n",
    "  LR = config[0]\n",
    "  NUM_EPOCHS = config[1]\n",
    "  STEP_SIZE = config[2]\n",
    "  GAMMA = config[3]\n",
    "  WEIGHT_DECAY = config[4]\n",
    "\n",
    "  net = alexnet(pretrained=True)\n",
    "  print(net.classifier[6])\n",
    "  criterion = nn.CrossEntropyLoss() \n",
    "  parameters_to_optimize = net.parameters()\n",
    "  optimizer = optim.SGD(parameters_to_optimize, lr=LR, momentum=MOMENTUM, weight_decay=WEIGHT_DECAY)\n",
    "  scheduler = optim.lr_scheduler.StepLR(optimizer, step_size=STEP_SIZE, gamma=GAMMA)\n",
    "\n",
    "  trained_net = training(None, photo_valoader, net, NUM_EPOCHS, scheduler, optimizer)\n",
    "  accuracy_cartoon, loss_cartoon = evaluation(cartoon_valoader, trained_net)\n",
    "  accuracy_sketch, loss_sketch = evaluation(sketch_valoader, trained_net)\n",
    "\n",
    "  avg_accuracy = (accuracy_cartoon + accuracy_sketch)/2\n",
    "  avg_loss = (loss_cartoon + loss_sketch)/2\n",
    "  \n",
    "  config_scores[config_idx] = (avg_accuracy, avg_loss) \n",
    "\n",
    "  print(f\"Evaluated model with config={config}\")\n",
    "  print(f\"accuracy_cartoon={accuracy_cartoon} loss_cartoon={loss_cartoon}\")\n",
    "  print(f\"accuracy_sketch={accuracy_sketch} loss_sketch={loss_sketch}\")\n",
    "  print(f\"avg_accuracy={avg_accuracy} avg_loss={avg_loss}\")"
   ]
  },
  {
   "cell_type": "markdown",
   "metadata": {
    "colab_type": "text",
    "id": "9JblLUcnw74p"
   },
   "source": [
    "# Cross Domain Validation with DANN"
   ]
  },
  {
   "cell_type": "code",
   "execution_count": null,
   "metadata": {
    "colab": {},
    "colab_type": "code",
    "id": "YmXWRuj2S608"
   },
   "outputs": [],
   "source": [
    "photo_dataset = torchvision.datasets.ImageFolder(photo_root, transform=train_transform)\n",
    "cartoon_dataset = torchvision.datasets.ImageFolder(cartoon_root, transform=train_transform)\n",
    "sketch_dataset = torchvision.datasets.ImageFolder(sketch_root, transform=train_transform)\n",
    "art_dataset = torchvision.datasets.ImageFolder(art_root, transform=train_transform)\n",
    "\n",
    "photo_loader = DataLoader(photo_dataset, batch_size=BATCH_SIZE, shuffle=True, num_workers=4, drop_last=True)\n",
    "cartoon_loader = DataLoader(cartoon_dataset, batch_size=BATCH_SIZE, shuffle=False, num_workers=4, drop_last=True)\n",
    "sketch_loader = DataLoader(sketch_dataset, batch_size=BATCH_SIZE, shuffle=False, num_workers=4, drop_last=True)\n",
    "art_loader = DataLoader(art_dataset, batch_size=BATCH_SIZE, shuffle=False, num_workers=4, drop_last=True)"
   ]
  },
  {
   "cell_type": "markdown",
   "metadata": {
    "colab_type": "text",
    "id": "tEM3ib0mxijz"
   },
   "source": [
    "**Cross Domain Validation with DANN**"
   ]
  },
  {
   "cell_type": "code",
   "execution_count": null,
   "metadata": {
    "colab": {},
    "colab_type": "code",
    "id": "oee0iZL11Zsg"
   },
   "outputs": [],
   "source": [
    "def training_with_adaptation(source_dataloader, target_dataloader, net, scheduler, optimizer):\n",
    "  net = alexnet(pretrained=True)\n",
    "\n",
    "  criterion = nn.CrossEntropyLoss() \n",
    "  parameters_to_optimize = net.parameters()\n",
    "  optimizer = optim.SGD(parameters_to_optimize, lr=LR, momentum=MOMENTUM, weight_decay=WEIGHT_DECAY)\n",
    "  scheduler = optim.lr_scheduler.StepLR(optimizer, step_size=STEP_SIZE, gamma=GAMMA)\n",
    "\n",
    "  net = net.to(DEVICE) \n",
    "  cudnn.benchmark\n",
    "  current_step = 0\n",
    "\n",
    "  losses_source_Gy = []\n",
    "  losses_source_Gd = []\n",
    "  losses_target_Gd = []\n",
    "\n",
    "  for epoch in range(NUM_EPOCHS):\n",
    "\n",
    "    target_dataloader_iterator = iter(target_dataloader)\n",
    "\n",
    "    for images, labels in source_dataloader:\n",
    "      \n",
    "      images = images.to(DEVICE)\n",
    "      labels = labels.to(DEVICE)\n",
    "\n",
    "      \"\"\" 1. train on source labels by forwarding source\n",
    "      data to Gy, get the loss, and update\n",
    "      gradients with loss.backward() \"\"\"\n",
    "\n",
    "      net.train() \n",
    "      optimizer.zero_grad()\n",
    "      outputs = net(images, None)\n",
    "      loss_1 = criterion(outputs, labels)\n",
    "\n",
    "      loss_1.backward() \n",
    "\n",
    "      \"\"\" 2. train the discriminator by forwarding\n",
    "      source data to Gd, get the loss (the label is 0\n",
    "      for all data), and update gradients with\n",
    "      loss.backward() \"\"\"\n",
    "\n",
    "      outputs = net(images, ALPHA)\n",
    "      step2_labels = torch.zeros(BATCH_SIZE, dtype=torch.long)\n",
    "      step2_labels = step2_labels.to(DEVICE)\n",
    "      loss_2 = criterion(outputs, step2_labels)\n",
    "\n",
    "      loss_2.backward()  \n",
    "\n",
    "      \"\"\" 3. (SEPARATE DATALOADER) train the discriminator by forwarding target\n",
    "      data to Gd, get the loss (the label is 1), and\n",
    "      update gradients with loss.backward() \"\"\"\n",
    "\n",
    "      step3_images = next(target_dataloader_iterator)\n",
    "      step3_images = step3_images[0].to(DEVICE)\n",
    "      outputs = net(step3_images, ALPHA)\n",
    "      step3_labels = torch.ones(BATCH_SIZE, dtype=torch.long)\n",
    "      step3_labels = step3_labels.to(DEVICE)\n",
    "      loss_3 = criterion(outputs, step3_labels)\n",
    "\n",
    "      loss_3.backward()\n",
    "\n",
    "      optimizer.step() \n",
    "      current_step += 1\n",
    "\n",
    "    losses_source_Gy.append(loss_1.item()) \n",
    "    losses_source_Gd.append(loss_2.item()) \n",
    "    losses_target_Gd.append(loss_3.item()) \n",
    "    scheduler.step()\n",
    "  return copy.deepcopy(net)"
   ]
  },
  {
   "cell_type": "code",
   "execution_count": null,
   "metadata": {
    "colab": {
     "base_uri": "https://localhost:8080/",
     "height": 463
    },
    "colab_type": "code",
    "id": "X3jW7fcTxZ2K",
    "outputId": "ec971382-5203-48b9-bdfa-91d8147dcef1"
   },
   "outputs": [
    {
     "name": "stderr",
     "output_type": "stream",
     "text": [
      "100%|██████████| 18/18 [00:10<00:00,  1.76it/s]\n",
      "100%|██████████| 30/30 [00:15<00:00,  1.88it/s]\n"
     ]
    },
    {
     "name": "stdout",
     "output_type": "stream",
     "text": [
      "Evaluated model with config: [0.005, 30, 20, 0.1, 0.005, 0.05]\n",
      "accuracy_cartoon=0.4552047781569966 loss_cartoon=11.950801849365234\n",
      "accuracy_sketch=0.23924662764062102 loss_sketch=7.191900253295898\n",
      "avg_accuracy=0.34722570289880883 avg_loss=9.571351051330566\n"
     ]
    },
    {
     "name": "stderr",
     "output_type": "stream",
     "text": [
      "100%|██████████| 18/18 [00:08<00:00,  2.20it/s]\n",
      "100%|██████████| 30/30 [00:12<00:00,  2.36it/s]\n"
     ]
    },
    {
     "name": "stdout",
     "output_type": "stream",
     "text": [
      "Evaluated model with config: [0.005, 50, 20, 0.1, 0.005, 0.05]\n",
      "accuracy_cartoon=0.47909556313993173 loss_cartoon=13.4350004196167\n",
      "accuracy_sketch=0.29931280223975565 loss_sketch=7.646337032318115\n",
      "avg_accuracy=0.3892041826898437 avg_loss=10.540668725967407\n"
     ]
    },
    {
     "name": "stderr",
     "output_type": "stream",
     "text": [
      "100%|██████████| 18/18 [00:10<00:00,  1.70it/s]\n",
      "100%|██████████| 30/30 [00:16<00:00,  1.81it/s]\n"
     ]
    },
    {
     "name": "stdout",
     "output_type": "stream",
     "text": [
      "Evaluated model with config: [0.0005, 30, 20, 0.1, 0.005, 0.01]\n",
      "accuracy_cartoon=0.2619453924914676 loss_cartoon=6.6703386306762695\n",
      "accuracy_sketch=0.2616441842708068 loss_sketch=5.248318195343018\n",
      "avg_accuracy=0.26179478838113723 avg_loss=5.9593284130096436\n"
     ]
    },
    {
     "name": "stderr",
     "output_type": "stream",
     "text": [
      "100%|██████████| 18/18 [00:08<00:00,  2.22it/s]\n",
      "100%|██████████| 30/30 [00:12<00:00,  2.40it/s]"
     ]
    },
    {
     "name": "stdout",
     "output_type": "stream",
     "text": [
      "Evaluated model with config: [0.0001, 30, 20, 0.1, 0.005, 0.05]\n",
      "accuracy_cartoon=0.2188566552901024 loss_cartoon=4.277695655822754\n",
      "accuracy_sketch=0.17179944006108425 loss_sketch=3.9073333740234375\n",
      "avg_accuracy=0.1953280476755933 avg_loss=4.092514514923096\n"
     ]
    },
    {
     "name": "stderr",
     "output_type": "stream",
     "text": [
      "\n"
     ]
    }
   ],
   "source": [
    "params_configurations = [[0.005,\t30,\t20,\t0.1, 0.005,\t0.05],\n",
    "                         [0.005,\t50,\t20,\t0.1, 0.005,\t0.05],\n",
    "                         [0.0005,\t30,\t20,\t0.1, 0.005,\t0.01],\n",
    "                         [0.0001,\t30,\t20,\t0.1, 0.005,\t0.05]]\n",
    "config_scores_2 = {}\n",
    "for config_idx, config in enumerate(params_configurations):\n",
    "  LR = config[0]\n",
    "  NUM_EPOCHS = config[1]\n",
    "  STEP_SIZE = config[2]\n",
    "  GAMMA = config[3]\n",
    "  WEIGHT_DECAY = config[4]\n",
    "  ALPHA = config[5]\n",
    "\n",
    "  net = alexnet(pretrained=True)\n",
    "  \n",
    "  criterion = nn.CrossEntropyLoss() \n",
    "  parameters_to_optimize = net.parameters()\n",
    "  optimizer = optim.SGD(parameters_to_optimize, lr=LR, momentum=MOMENTUM, weight_decay=WEIGHT_DECAY)\n",
    "  scheduler = optim.lr_scheduler.StepLR(optimizer, step_size=STEP_SIZE, gamma=GAMMA)\n",
    "\n",
    "  trained_net_1 = training_with_adaptation(photo_loader, cartoon_loader, net, scheduler, optimizer)\n",
    "  trained_net_2 = training_with_adaptation(photo_loader, sketch_loader, net, scheduler, optimizer)\n",
    "  accuracy_cartoon, loss_cartoon = evaluation(cartoon_loader, trained_net_1)\n",
    "  accuracy_sketch, loss_sketch = evaluation(sketch_valoader, trained_net_2)\n",
    "\n",
    "  avg_accuracy = (accuracy_cartoon + accuracy_sketch)/2\n",
    "  avg_loss = (loss_cartoon + loss_sketch)/2\n",
    "  \n",
    "  config_scores_2[config_idx] = (avg_accuracy, avg_loss) \n",
    "\n",
    "  print(f\"Evaluated model with config: {config}\")\n",
    "  print(f\"accuracy_cartoon={accuracy_cartoon} loss_cartoon={loss_cartoon}\")\n",
    "  print(f\"accuracy_sketch={accuracy_sketch} loss_sketch={loss_sketch}\")\n",
    "  print(f\"avg_accuracy={avg_accuracy} avg_loss={avg_loss}\")\n",
    "  "
   ]
  },
  {
   "cell_type": "code",
   "execution_count": null,
   "metadata": {
    "colab": {},
    "colab_type": "code",
    "id": "Y7QKgu-r09Gl"
   },
   "outputs": [],
   "source": [
    "import matplotlib.pyplot as plt\n",
    "\n",
    "f, ax = plt.subplots(1,figsize=(10,8))\n",
    "\n",
    "ax.plot(losses_source_Gd, label = \"loss of source to Gd\", marker='.')\n",
    "ax.plot(losses_source_Gy, label = \"loss of source to Gy\", marker='.')\n",
    "ax.plot(losses_target_Gd, label = \"loss of target to Gd\", marker='.')\n",
    "\n",
    "plt.xlabel('EPOCH')\n",
    "plt.ylabel('LOSS')\n",
    "plt.title('')\n",
    "plt.legend()\n",
    "plt.show()"
   ]
  }
 ],
 "metadata": {
  "accelerator": "GPU",
  "colab": {
   "collapsed_sections": [],
   "name": "homework_3.ipynb",
   "provenance": [],
   "toc_visible": true
  },
  "kernelspec": {
   "display_name": "Python 3",
   "language": "python",
   "name": "python3"
  },
  "language_info": {
   "codemirror_mode": {
    "name": "ipython",
    "version": 3
   },
   "file_extension": ".py",
   "mimetype": "text/x-python",
   "name": "python",
   "nbconvert_exporter": "python",
   "pygments_lexer": "ipython3",
   "version": "3.7.6"
  }
 },
 "nbformat": 4,
 "nbformat_minor": 1
}
